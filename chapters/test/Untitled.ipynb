{
 "cells": [
  {
   "cell_type": "code",
   "execution_count": 6,
   "id": "313db288-9527-4d33-b16c-2f1f4f01aa6e",
   "metadata": {},
   "outputs": [],
   "source": [
    "import pandas as pd \n",
    "import matplotlib.pyplot  as plt\n",
    "import numpy as np "
   ]
  },
  {
   "cell_type": "code",
   "execution_count": 42,
   "id": "5ddf71f8-a624-4e8b-9108-056e7b5c21ff",
   "metadata": {},
   "outputs": [
    {
     "data": {
      "text/plain": [
       "-0.06960454080000011"
      ]
     },
     "execution_count": 42,
     "metadata": {},
     "output_type": "execute_result"
    }
   ],
   "source": [
    "df = pd.read_csv(\"test.csv\")\n",
    "np.mean(df.nums)"
   ]
  },
  {
   "cell_type": "code",
   "execution_count": 43,
   "id": "ed9a678f-c3f3-4282-982a-582d6ebea2f8",
   "metadata": {},
   "outputs": [
    {
     "data": {
      "text/plain": [
       "(array([  1.,   0.,   0.,   0.,   0.,   0.,   0.,   0.,   0.,   1.,   1.,\n",
       "          1.,   0.,   2.,   0.,   2.,   5.,   3.,   6.,   3.,   6.,   6.,\n",
       "         10.,  11.,  17.,  26.,  21.,  36.,  28.,  39.,  50.,  66.,  77.,\n",
       "         81., 104., 103., 111., 159., 141., 168., 186., 208., 251., 259.,\n",
       "        255., 276., 313., 356., 327., 273., 261., 259., 274., 256., 238.,\n",
       "        233., 246., 291., 278., 246., 298., 254., 237., 247., 218., 218.,\n",
       "        189., 191., 186., 144., 124., 144., 120., 121.,  97.,  94.,  85.,\n",
       "         74.,  52.,  58.,  53.,  46.,  37.,  34.,  22.,  20.,  14.,  13.,\n",
       "          6.,   6.,   1.,   7.,   4.,   3.,   6.,   1.,   0.,   0.,   1.,\n",
       "          4.]),\n",
       " array([-4.593896  , -4.51083885, -4.4277817 , -4.34472455, -4.2616674 ,\n",
       "        -4.17861025, -4.0955531 , -4.01249595, -3.9294388 , -3.84638165,\n",
       "        -3.7633245 , -3.68026735, -3.5972102 , -3.51415305, -3.4310959 ,\n",
       "        -3.34803875, -3.2649816 , -3.18192445, -3.0988673 , -3.01581015,\n",
       "        -2.932753  , -2.84969585, -2.7666387 , -2.68358155, -2.6005244 ,\n",
       "        -2.51746725, -2.4344101 , -2.35135295, -2.2682958 , -2.18523865,\n",
       "        -2.1021815 , -2.01912435, -1.9360672 , -1.85301005, -1.7699529 ,\n",
       "        -1.68689575, -1.6038386 , -1.52078145, -1.4377243 , -1.35466715,\n",
       "        -1.27161   , -1.18855285, -1.1054957 , -1.02243855, -0.9393814 ,\n",
       "        -0.85632425, -0.7732671 , -0.69020995, -0.6071528 , -0.52409565,\n",
       "        -0.4410385 , -0.35798135, -0.2749242 , -0.19186705, -0.1088099 ,\n",
       "        -0.02575275,  0.0573044 ,  0.14036155,  0.2234187 ,  0.30647585,\n",
       "         0.389533  ,  0.47259015,  0.5556473 ,  0.63870445,  0.7217616 ,\n",
       "         0.80481875,  0.8878759 ,  0.97093305,  1.0539902 ,  1.13704735,\n",
       "         1.2201045 ,  1.30316165,  1.3862188 ,  1.46927595,  1.5523331 ,\n",
       "         1.63539025,  1.7184474 ,  1.80150455,  1.8845617 ,  1.96761885,\n",
       "         2.050676  ,  2.13373315,  2.2167903 ,  2.29984745,  2.3829046 ,\n",
       "         2.46596175,  2.5490189 ,  2.63207605,  2.7151332 ,  2.79819035,\n",
       "         2.8812475 ,  2.96430465,  3.0473618 ,  3.13041895,  3.2134761 ,\n",
       "         3.29653325,  3.3795904 ,  3.46264755,  3.5457047 ,  3.62876185,\n",
       "         3.711819  ]),\n",
       " <BarContainer object of 100 artists>)"
      ]
     },
     "execution_count": 43,
     "metadata": {},
     "output_type": "execute_result"
    },
    {
     "data": {
      "image/png": "[encoded data removed]",
      "text/plain": [
       "<Figure size 432x288 with 1 Axes>"
      ]
     },
     "metadata": {
      "needs_background": "light"
     },
     "output_type": "display_data"
    }
   ],
   "source": [
    "plt.hist(df.nums,bins=100)"
   ]
  },
  {
   "cell_type": "code",
   "execution_count": 12,
   "id": "09fa0a45-50fb-4138-a4ee-228232b5b430",
   "metadata": {},
   "outputs": [
    {
     "data": {
      "text/plain": [
       "-0.01166140150000001"
      ]
     },
     "execution_count": 12,
     "metadata": {},
     "output_type": "execute_result"
    }
   ],
   "source": []
  },
  {
   "cell_type": "code",
   "execution_count": null,
   "id": "d9dd2ece-c543-4c19-8729-41f483efd40c",
   "metadata": {},
   "outputs": [],
   "source": []
  }
 ],
 "metadata": {
  "kernelspec": {
   "display_name": "hydrogen",
   "language": "python",
   "name": "hydrogen"
  },
  "language_info": {
   "codemirror_mode": {
    "name": "ipython",
    "version": 3
   },
   "file_extension": ".py",
   "mimetype": "text/x-python",
   "name": "python",
   "nbconvert_exporter": "python",
   "pygments_lexer": "ipython3",
   "version": "3.7.13"
  }
 },
 "nbformat": 4,
 "nbformat_minor": 5
}
