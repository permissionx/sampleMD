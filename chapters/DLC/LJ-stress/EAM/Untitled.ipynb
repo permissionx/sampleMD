{
 "cells": [
  {
   "cell_type": "code",
   "execution_count": 2,
   "id": "8fa937cd-79ee-4cb4-bf37-5d91a23e4c42",
   "metadata": {},
   "outputs": [],
   "source": [
    "import ase.io\n",
    "import numpy as np\n",
    "from lammps import lammps\n",
    "from lammps.numpy_wrapper import numpy_wrapper\n",
    "import matplotlib.pyplot as plt"
   ]
  },
  {
   "cell_type": "code",
   "execution_count": 32,
   "id": "0d0ede8b-96ee-4fc3-b9db-6ef8507938f7",
   "metadata": {},
   "outputs": [
    {
     "data": {
      "text/plain": [
       "Cell([16.0, 16.0, 16.0])"
      ]
     },
     "execution_count": 32,
     "metadata": {},
     "output_type": "execute_result"
    }
   ],
   "source": [
    "atoms = ase.io.read(\"/home/xuke/Researches/CompuphysBook/sampleMD/sampleMD/chapters/DLC/dis.dump\")\n",
    "atoms.cell"
   ]
  },
  {
   "cell_type": "code",
   "execution_count": 33,
   "id": "c29f00c3-9e66-4039-bcb9-d1b055401d9d",
   "metadata": {
    "scrolled": true,
    "tags": []
   },
   "outputs": [
    {
     "name": "stdout",
     "output_type": "stream",
     "text": [
      "LAMMPS (29 Sep 2021 - Update 3)\n",
      "Lattice spacing in x,y,z = 3.2000000 3.2000000 3.2000000\n",
      "Created orthogonal box = (0.0000000 0.0000000 0.0000000) to (32.000000 32.000000 32.000000)\n",
      "  1 by 1 by 1 MPI processor grid\n",
      "Scanning dump file ...\n",
      "Reading snapshot from dump file ...\n",
      "  orthogonal box = (0.0000000 0.0000000 0.0000000) to (16.000000 16.000000 16.000000)\n",
      "  0 atoms before read\n",
      "  250 atoms in snapshot\n",
      "  0 atoms purged\n",
      "  0 atoms replaced\n",
      "  0 atoms trimmed\n",
      "  250 atoms added\n",
      "  250 atoms after read\n",
      "WARNING: No fixes defined, atoms won't move (../verlet.cpp:55)\n",
      "Neighbor list info ...\n",
      "  update every 1 steps, delay 10 steps, check yes\n",
      "  max neighbors/atom: 2000, page size: 100000\n",
      "  master list distance cutoff = 7.7\n",
      "  ghost atom cutoff = 7.7\n",
      "  binsize = 3.85, bins = 5 5 5\n",
      "  1 neighbor lists, perpetual/occasional/extra = 1 0 0\n",
      "  (1) pair eam/alloy, perpetual\n",
      "      attributes: half, newton on\n",
      "      pair build: half/bin/atomonly/newton\n",
      "      stencil: half/bin/3d\n",
      "      bin: standard\n",
      "Setting up Verlet run ...\n",
      "  Unit style    : metal\n",
      "  Current step  : 0\n",
      "  Time step     : 0.001\n",
      "Per MPI rank memory allocation (min/avg/max) = 4.629 | 4.629 | 4.629 Mbytes\n",
      "PotEng \n",
      "  -2207.6078 \n",
      "Loop time of 2.14577e-06 on 1 procs for 0 steps with 250 atoms\n",
      "\n",
      "139.8% CPU use with 1 MPI tasks x no OpenMP threads\n",
      "\n",
      "MPI task timing breakdown:\n",
      "Section |  min time  |  avg time  |  max time  |%varavg| %total\n",
      "---------------------------------------------------------------\n",
      "Pair    | 0          | 0          | 0          |   0.0 |  0.00\n",
      "Neigh   | 0          | 0          | 0          |   0.0 |  0.00\n",
      "Comm    | 0          | 0          | 0          |   0.0 |  0.00\n",
      "Output  | 0          | 0          | 0          |   0.0 |  0.00\n",
      "Modify  | 0          | 0          | 0          |   0.0 |  0.00\n",
      "Other   |            | 2.146e-06  |            |       |100.00\n",
      "\n",
      "Nlocal:        250.000 ave         250 max         250 min\n",
      "Histogram: 1 0 0 0 0 0 0 0 0 0\n",
      "Nghost:        1479.00 ave        1479 max        1479 min\n",
      "Histogram: 1 0 0 0 0 0 0 0 0 0\n",
      "Neighs:        14007.0 ave       14007 max       14007 min\n",
      "Histogram: 1 0 0 0 0 0 0 0 0 0\n",
      "\n",
      "Total # of neighbors = 14007\n",
      "Ave neighs/atom = 56.028000\n",
      "Neighbor list builds = 0\n",
      "Dangerous builds = 0\n",
      "Total wall time: 0:09:03\n"
     ]
    }
   ],
   "source": [
    "lmp=lammps()\n",
    "lmp.file('in.1')\n",
    "lmp_numpy = numpy_wrapper(lmp)"
   ]
  },
  {
   "cell_type": "code",
   "execution_count": 34,
   "id": "be397c0e-c2aa-44d3-aa14-5f9d62a08830",
   "metadata": {},
   "outputs": [],
   "source": [
    "rs = lmp_numpy.extract_atom(\"x\").copy()\n",
    "ids = lmp_numpy.extract_atom(\"id\").copy()\n",
    "fs = lmp_numpy.extract_atom(\"f\").copy()"
   ]
  },
  {
   "cell_type": "code",
   "execution_count": 35,
   "id": "fc0e4100-9cfc-4ff4-a7d7-a464ff6b90b4",
   "metadata": {},
   "outputs": [
    {
     "data": {
      "text/plain": [
       "array([  2,  13,  51,  53,  63,  52, 101, 102, 103, 111, 113, 152, 163,\n",
       "         3, 202, 203, 213,  12,  21,  22,  73,  62, 112, 123, 122, 162,\n",
       "       173,  23, 212, 221, 222, 223,  32,  81,  83,  72,  82, 132, 133,\n",
       "       172, 182, 183,  33, 232, 233,  42,  43,  93,  92, 142, 143, 151,\n",
       "       153, 191, 192, 193, 201, 241, 242, 243,   4,  15,  65,  54,  56,\n",
       "       105, 115, 104, 154, 165, 204, 205, 206, 215,  14,  16,  24,  25,\n",
       "        26,  75,  64,  74, 125, 114, 126, 164, 166, 174, 175, 214, 224,\n",
       "       225,  34,  35,  85,  76,  84, 124, 134, 135, 184, 185, 234, 235,\n",
       "       236,  44,  55,  95,  94,  96, 144, 145, 146, 155, 194, 195,   5,\n",
       "        45, 244, 245, 246,   6,   8,  17,  67,  58, 108, 117, 106, 156,\n",
       "       158, 167,   7, 207, 208, 217,  18,  27,  77,  66,  68, 118, 127,\n",
       "       116, 128, 168, 177, 178, 216, 218, 226, 227, 228,  28,  36,  38,\n",
       "        87,  78,  86,  88, 136, 137, 138, 176, 186, 187, 188,  37, 237,\n",
       "       238,  46,  47,  48,  57,  97,  98, 107, 147, 148, 157, 196, 197,\n",
       "       198, 247, 248,  10,  59,  61,  69,  60, 109, 110, 119, 159, 160,\n",
       "       161, 169,  11,  19, 210, 211, 219,  20,  29,  71,  79,  70,  80,\n",
       "       120, 121, 129, 170, 171, 179, 180, 220, 229, 230,  30,  40,  89,\n",
       "        90, 131, 139, 140, 130, 181, 189, 190,  31,  39, 231, 239, 240,\n",
       "         9,  49,  50,  91,  99, 100, 141, 149, 150, 199, 200,   1,  41,\n",
       "       209, 249, 250], dtype=int32)"
      ]
     },
     "execution_count": 35,
     "metadata": {},
     "output_type": "execute_result"
    }
   ],
   "source": [
    "ids"
   ]
  },
  {
   "cell_type": "code",
   "execution_count": 36,
   "id": "61e12915-c157-4fdd-9174-db415c0a555e",
   "metadata": {},
   "outputs": [],
   "source": [
    "virial = np.sum(- rs[:,0] * fs[:,0])/16**3*160.21766208"
   ]
  },
  {
   "cell_type": "code",
   "execution_count": 38,
   "id": "44b5dc9c-619f-41c2-8a9a-e5a259150163",
   "metadata": {},
   "outputs": [
    {
     "data": {
      "text/plain": [
       "-8.830431199827563"
      ]
     },
     "execution_count": 38,
     "metadata": {},
     "output_type": "execute_result"
    }
   ],
   "source": [
    "lmp_numpy.extract_variable(\"pe\")/250"
   ]
  },
  {
   "cell_type": "code",
   "execution_count": 39,
   "id": "9c7cf312-20b1-4519-b606-2bbb58fefc0d",
   "metadata": {
    "scrolled": true,
    "tags": []
   },
   "outputs": [
    {
     "name": "stdout",
     "output_type": "stream",
     "text": [
      "LAMMPS (29 Sep 2021 - Update 3)\n",
      "Lattice spacing in x,y,z = 3.2000000 3.2000000 3.2000000\n",
      "Created orthogonal box = (0.0000000 0.0000000 0.0000000) to (32.000000 32.000000 32.000000)\n",
      "  1 by 1 by 1 MPI processor grid\n",
      "Scanning dump file ...\n",
      "Reading snapshot from dump file ...\n",
      "  orthogonal box = (0.0000000 0.0000000 0.0000000) to (16.000000 16.000000 16.000000)\n",
      "  0 atoms before read\n",
      "  250 atoms in snapshot\n",
      "  0 atoms purged\n",
      "  0 atoms replaced\n",
      "  0 atoms trimmed\n",
      "  250 atoms added\n",
      "  250 atoms after read\n",
      "WARNING: No fixes defined, atoms won't move (../verlet.cpp:55)\n",
      "Neighbor list info ...\n",
      "  update every 1 steps, delay 10 steps, check yes\n",
      "  max neighbors/atom: 2000, page size: 100000\n",
      "  master list distance cutoff = 7.7\n",
      "  ghost atom cutoff = 7.7\n",
      "  binsize = 3.85, bins = 5 5 5\n",
      "  1 neighbor lists, perpetual/occasional/extra = 1 0 0\n",
      "  (1) pair eam/alloy, perpetual\n",
      "      attributes: half, newton on\n",
      "      pair build: half/bin/atomonly/newton\n",
      "      stencil: half/bin/3d\n",
      "      bin: standard\n",
      "Setting up Verlet run ...\n",
      "  Unit style    : metal\n",
      "  Current step  : 0\n",
      "  Time step     : 0.001\n",
      "Per MPI rank memory allocation (min/avg/max) = 4.588 | 4.588 | 4.588 Mbytes\n",
      "PotEng \n",
      "  -2106.1864 \n",
      "Loop time of 1.90735e-06 on 1 procs for 0 steps with 250 atoms\n",
      "\n",
      "104.9% CPU use with 1 MPI tasks x no OpenMP threads\n",
      "\n",
      "MPI task timing breakdown:\n",
      "Section |  min time  |  avg time  |  max time  |%varavg| %total\n",
      "---------------------------------------------------------------\n",
      "Pair    | 0          | 0          | 0          |   0.0 |  0.00\n",
      "Neigh   | 0          | 0          | 0          |   0.0 |  0.00\n",
      "Comm    | 0          | 0          | 0          |   0.0 |  0.00\n",
      "Output  | 0          | 0          | 0          |   0.0 |  0.00\n",
      "Modify  | 0          | 0          | 0          |   0.0 |  0.00\n",
      "Other   |            | 1.907e-06  |            |       |100.00\n",
      "\n",
      "Nlocal:        250.000 ave         250 max         250 min\n",
      "Histogram: 1 0 0 0 0 0 0 0 0 0\n",
      "Nghost:        655.000 ave         655 max         655 min\n",
      "Histogram: 1 0 0 0 0 0 0 0 0 0\n",
      "Neighs:        11429.0 ave       11429 max       11429 min\n",
      "Histogram: 1 0 0 0 0 0 0 0 0 0\n",
      "\n",
      "Total # of neighbors = 11429\n",
      "Ave neighs/atom = 45.716000\n",
      "Neighbor list builds = 0\n",
      "Dangerous builds = 0\n",
      "Total wall time: 0:00:36\n"
     ]
    }
   ],
   "source": [
    "lmp=lammps()\n",
    "lmp.file('in.2')\n",
    "lmp_numpy = numpy_wrapper(lmp)"
   ]
  },
  {
   "cell_type": "code",
   "execution_count": 40,
   "id": "e93c9c96-81cb-4120-a288-3458b80f3764",
   "metadata": {
    "scrolled": true,
    "tags": []
   },
   "outputs": [
    {
     "data": {
      "text/plain": [
       "-2106.186356602114"
      ]
     },
     "execution_count": 40,
     "metadata": {},
     "output_type": "execute_result"
    }
   ],
   "source": [
    "lmp_numpy.extract_variable(\"pe\")"
   ]
  },
  {
   "cell_type": "code",
   "execution_count": 41,
   "id": "f859ad15-b07c-4bff-b23e-226bb945d66d",
   "metadata": {},
   "outputs": [],
   "source": [
    "ids2 = lmp_numpy.extract_atom(\"id\").copy()\n",
    "fs2 = lmp_numpy.extract_atom(\"f\").copy()"
   ]
  },
  {
   "cell_type": "code",
   "execution_count": 42,
   "id": "3c9f19cb-702a-4b8a-9140-cf49c24e0877",
   "metadata": {},
   "outputs": [],
   "source": [
    "df = fs-fs2"
   ]
  },
  {
   "cell_type": "code",
   "execution_count": 48,
   "id": "902f8f0c-27e8-4a9a-b6d5-7716b3cb6c64",
   "metadata": {},
   "outputs": [
    {
     "data": {
      "text/plain": [
       "[<matplotlib.lines.Line2D at 0x2b36729482d0>]"
      ]
     },
     "execution_count": 48,
     "metadata": {},
     "output_type": "execute_result"
    },
    {
     "data": {
      "image/png": "[encoded data removed]",
      "text/plain": [
       "<Figure size 432x288 with 1 Axes>"
      ]
     },
     "metadata": {
      "needs_background": "light"
     },
     "output_type": "display_data"
    }
   ],
   "source": [
    "plt.plot(rs[:,0],df[:,0],'.')"
   ]
  },
  {
   "cell_type": "code",
   "execution_count": 52,
   "id": "db771fa9-b17b-416d-8a8f-4b81bcfd0b27",
   "metadata": {},
   "outputs": [],
   "source": [
    "mask1 = rs[:,0]<8\n",
    "mask2 = rs[:,0]>=8\n",
    "ff = np.sum((fs-fs2)[mask2])/256*160.21766208"
   ]
  },
  {
   "cell_type": "code",
   "execution_count": 53,
   "id": "618a041c-15fc-4b34-8f67-70711e206c66",
   "metadata": {},
   "outputs": [
    {
     "data": {
      "text/plain": [
       "18.877108439093128"
      ]
     },
     "execution_count": 53,
     "metadata": {},
     "output_type": "execute_result"
    }
   ],
   "source": [
    "ff+virial"
   ]
  },
  {
   "cell_type": "code",
   "execution_count": 46,
   "id": "ed789cd7-99d8-4736-81d3-46db68c1caae",
   "metadata": {},
   "outputs": [
    {
     "data": {
      "text/plain": [
       "32.8538057138495"
      ]
     },
     "execution_count": 46,
     "metadata": {},
     "output_type": "execute_result"
    }
   ],
   "source": [
    "np.sum((fs-fs2)[mask2])"
   ]
  },
  {
   "cell_type": "code",
   "execution_count": 47,
   "id": "f55a1f20-370c-4323-b8bc-bde7b83c8a2d",
   "metadata": {},
   "outputs": [
    {
     "data": {
      "text/plain": [
       "-32.85380571384951"
      ]
     },
     "execution_count": 47,
     "metadata": {},
     "output_type": "execute_result"
    }
   ],
   "source": [
    "np.sum((fs-fs2)[mask1])"
   ]
  },
  {
   "cell_type": "code",
   "execution_count": null,
   "id": "18efd7f4-1d8f-4f88-b7e5-a4dd0bfa5d35",
   "metadata": {},
   "outputs": [],
   "source": []
  }
 ],
 "metadata": {
  "kernelspec": {
   "display_name": "hydrogen",
   "language": "python",
   "name": "hydrogen"
  },
  "language_info": {
   "codemirror_mode": {
    "name": "ipython",
    "version": 3
   },
   "file_extension": ".py",
   "mimetype": "text/x-python",
   "name": "python",
   "nbconvert_exporter": "python",
   "pygments_lexer": "ipython3",
   "version": "3.7.13"
  }
 },
 "nbformat": 4,
 "nbformat_minor": 5
}
